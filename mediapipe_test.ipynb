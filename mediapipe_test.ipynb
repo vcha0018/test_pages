{
 "cells": [
  {
   "cell_type": "code",
   "execution_count": 3,
   "metadata": {},
   "outputs": [],
   "source": [
    "import cv2"
   ]
  },
  {
   "cell_type": "code",
   "execution_count": 4,
   "metadata": {},
   "outputs": [],
   "source": [
    "import mediapipe as mp"
   ]
  },
  {
   "cell_type": "code",
   "execution_count": 5,
   "metadata": {},
   "outputs": [],
   "source": [
    "mp_drawing = mp.solutions.drawing_utils\n",
    "mp_hands = mp.solutions.hands"
   ]
  },
  {
   "cell_type": "code",
   "execution_count": 6,
   "metadata": {},
   "outputs": [],
   "source": [
    "def webcam_test():\n",
    "    # For webcam input:\n",
    "    hands = mp_hands.Hands(min_detection_confidence=0.5, min_tracking_confidence=0.5)\n",
    "    cap = cv2.VideoCapture(0)\n",
    "    while cap.isOpened():\n",
    "        success, image = cap.read()\n",
    "        if not success:\n",
    "            print(\"Ignoring empty camera frame.\")\n",
    "            # If loading a video, use 'break' instead of 'continue'.\n",
    "            continue\n",
    "\n",
    "        # Flip the image horizontally for a later selfie-view display, and convert\n",
    "        # the BGR image to RGB.\n",
    "        image = cv2.cvtColor(cv2.flip(image, 1), cv2.COLOR_BGR2RGB)\n",
    "        # To improve performance, optionally mark the image as not writeable to\n",
    "        # pass by reference.\n",
    "        image.flags.writeable = False\n",
    "        results = hands.process(image)\n",
    "\n",
    "        # Draw the hand annotations on the image.\n",
    "        image.flags.writeable = True\n",
    "        image = cv2.cvtColor(image, cv2.COLOR_RGB2BGR)\n",
    "        print('Handedness:', results.multi_handedness)\n",
    "        if results.multi_hand_landmarks:\n",
    "            for hand_landmarks in results.multi_hand_landmarks:\n",
    "                print('hand_landmarks:', hand_landmarks)\n",
    "                mp_drawing.draw_landmarks(image, hand_landmarks, mp_hands.HAND_CONNECTIONS)\n",
    "        cv2.imshow('MediaPipe Hands', image)\n",
    "        if cv2.waitKey(5) & 0xFF == 27:\n",
    "            break\n",
    "    hands.close()\n",
    "    cap.release()"
   ]
  },
  {
   "cell_type": "code",
   "execution_count": 7,
   "metadata": {},
   "outputs": [
    {
     "name": "stdout",
     "output_type": "stream",
     "text": [
      "Handedness: None\n",
      "Handedness: None\n",
      "Handedness: None\n",
      "Handedness: None\n",
      "Handedness: None\n",
      "Handedness: None\n",
      "Handedness: None\n",
      "Handedness: None\n",
      "Handedness: None\n",
      "Handedness: None\n",
      "Handedness: None\n",
      "Handedness: None\n",
      "Handedness: None\n",
      "Handedness: None\n",
      "Handedness: None\n",
      "Handedness: None\n",
      "Handedness: None\n",
      "Handedness: None\n",
      "Handedness: None\n",
      "Handedness: None\n",
      "Handedness: None\n",
      "Handedness: None\n",
      "Handedness: None\n",
      "Handedness: None\n",
      "Handedness: None\n",
      "Handedness: None\n",
      "Handedness: None\n",
      "Handedness: None\n",
      "Handedness: None\n",
      "Handedness: None\n",
      "Handedness: None\n",
      "Handedness: None\n",
      "Handedness: None\n",
      "Handedness: None\n",
      "Handedness: None\n",
      "Handedness: None\n",
      "Handedness: None\n",
      "Handedness: None\n",
      "Handedness: None\n",
      "Handedness: None\n",
      "Handedness: None\n",
      "Handedness: None\n",
      "Handedness: None\n",
      "Handedness: None\n",
      "Handedness: None\n",
      "Handedness: None\n",
      "Handedness: None\n",
      "Handedness: None\n",
      "Handedness: None\n",
      "Handedness: None\n",
      "Handedness: None\n",
      "Handedness: None\n",
      "Handedness: None\n",
      "Handedness: None\n",
      "Handedness: None\n",
      "Handedness: None\n",
      "Handedness: None\n",
      "Handedness: None\n",
      "Handedness: None\n",
      "Handedness: None\n",
      "Handedness: None\n",
      "Handedness: None\n",
      "Handedness: None\n",
      "Handedness: None\n",
      "Handedness: None\n",
      "Handedness: None\n",
      "Handedness: None\n",
      "Handedness: None\n",
      "Handedness: None\n",
      "Handedness: None\n",
      "Handedness: None\n",
      "Handedness: None\n",
      "Handedness: None\n",
      "Handedness: None\n",
      "Handedness: None\n",
      "Handedness: None\n",
      "Handedness: None\n",
      "Handedness: None\n",
      "Handedness: None\n",
      "Handedness: None\n",
      "Handedness: None\n",
      "Handedness: None\n",
      "Handedness: None\n",
      "Handedness: None\n",
      "Handedness: None\n"
     ]
    },
    {
     "ename": "KeyboardInterrupt",
     "evalue": "",
     "output_type": "error",
     "traceback": [
      "\u001b[1;31m---------------------------------------------------------------------------\u001b[0m",
      "\u001b[1;31mKeyboardInterrupt\u001b[0m                         Traceback (most recent call last)",
      "\u001b[1;32m<ipython-input-7-28f96ba18eaf>\u001b[0m in \u001b[0;36m<module>\u001b[1;34m\u001b[0m\n\u001b[1;32m----> 1\u001b[1;33m \u001b[0mwebcam_test\u001b[0m\u001b[1;33m(\u001b[0m\u001b[1;33m)\u001b[0m\u001b[1;33m\u001b[0m\u001b[1;33m\u001b[0m\u001b[0m\n\u001b[0m",
      "\u001b[1;32m<ipython-input-6-599337c067ba>\u001b[0m in \u001b[0;36mwebcam_test\u001b[1;34m()\u001b[0m\n\u001b[0;32m      4\u001b[0m     \u001b[0mcap\u001b[0m \u001b[1;33m=\u001b[0m \u001b[0mcv2\u001b[0m\u001b[1;33m.\u001b[0m\u001b[0mVideoCapture\u001b[0m\u001b[1;33m(\u001b[0m\u001b[1;36m0\u001b[0m\u001b[1;33m)\u001b[0m\u001b[1;33m\u001b[0m\u001b[1;33m\u001b[0m\u001b[0m\n\u001b[0;32m      5\u001b[0m     \u001b[1;32mwhile\u001b[0m \u001b[0mcap\u001b[0m\u001b[1;33m.\u001b[0m\u001b[0misOpened\u001b[0m\u001b[1;33m(\u001b[0m\u001b[1;33m)\u001b[0m\u001b[1;33m:\u001b[0m\u001b[1;33m\u001b[0m\u001b[1;33m\u001b[0m\u001b[0m\n\u001b[1;32m----> 6\u001b[1;33m         \u001b[0msuccess\u001b[0m\u001b[1;33m,\u001b[0m \u001b[0mimage\u001b[0m \u001b[1;33m=\u001b[0m \u001b[0mcap\u001b[0m\u001b[1;33m.\u001b[0m\u001b[0mread\u001b[0m\u001b[1;33m(\u001b[0m\u001b[1;33m)\u001b[0m\u001b[1;33m\u001b[0m\u001b[1;33m\u001b[0m\u001b[0m\n\u001b[0m\u001b[0;32m      7\u001b[0m         \u001b[1;32mif\u001b[0m \u001b[1;32mnot\u001b[0m \u001b[0msuccess\u001b[0m\u001b[1;33m:\u001b[0m\u001b[1;33m\u001b[0m\u001b[1;33m\u001b[0m\u001b[0m\n\u001b[0;32m      8\u001b[0m             \u001b[0mprint\u001b[0m\u001b[1;33m(\u001b[0m\u001b[1;34m\"Ignoring empty camera frame.\"\u001b[0m\u001b[1;33m)\u001b[0m\u001b[1;33m\u001b[0m\u001b[1;33m\u001b[0m\u001b[0m\n",
      "\u001b[1;31mKeyboardInterrupt\u001b[0m: "
     ]
    }
   ],
   "source": [
    "webcam_test()"
   ]
  },
  {
   "cell_type": "code",
   "execution_count": null,
   "metadata": {},
   "outputs": [],
   "source": []
  }
 ],
 "metadata": {
  "kernelspec": {
   "display_name": "Python 3",
   "language": "python",
   "name": "python3"
  },
  "language_info": {
   "codemirror_mode": {
    "name": "ipython",
    "version": 3
   },
   "file_extension": ".py",
   "mimetype": "text/x-python",
   "name": "python",
   "nbconvert_exporter": "python",
   "pygments_lexer": "ipython3",
   "version": "3.8.5"
  }
 },
 "nbformat": 4,
 "nbformat_minor": 4
}
